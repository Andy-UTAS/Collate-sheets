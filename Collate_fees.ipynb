{
 "cells": [
  {
   "cell_type": "code",
   "execution_count": 128,
   "metadata": {},
   "outputs": [],
   "source": [
    "#!/usr/bin/env python\n",
    " \n",
    "'''\n",
    "Collate_fees.ipynb\n",
    "A. J. McCulloch, February 2020\n",
    "'''\n",
    "\n",
    "####################################################################################################\n",
    "# Import modules\n",
    "####################################################################################################\n",
    "\n",
    "import pandas as pd # Required for dataframes\n",
    "import numpy as np # Required from numerical operations\n",
    "\n",
    "file = '2016_Fees.xlsx' # File to import\n",
    "xlsx = pd.ExcelFile(file) # Open the Excel file\n",
    "\n",
    "# Concatinate all sheets from the excel spreadsheet into a dataframe\n",
    "for count, s in enumerate(sheets):\n",
    "    if count == 0: # Initialise the dataframe with the first sheet\n",
    "        df = pd.read_excel(file, s, header=1, index_col = 2, usecols = 'A:J', skipfooter = 18)\n",
    "        df = df.drop(np.NaN)\n",
    "        df['Course'] = s\n",
    "    else: # Join all other data frames to the inital frame\n",
    "        df_temp = pd.read_excel(file, s, header=1, index_col = 2, usecols = 'A:J', skipfooter = 18)\n",
    "        df_temp = df_temp.drop(np.NaN)\n",
    "        df_temp['Course'] = s\n",
    "        \n",
    "        df = pd.concat([df, df_temp]) # Concatinate the frames\n",
    "\n",
    "# Get the cost of living data which is differently formatted\n",
    "df_CoL = pd.read_excel(file, xlsx.sheet_names[-1], header=3, index_col = 0, usecols = 'H:J', skipfooter = 0) \n",
    "\n",
    "df = pd.merge(df, df_CoL, left_index=True, right_index=True) # Merge the cost of living \n",
    "df.index.name = 'INST' # Rename the index as it is lost during the merge\n",
    "\n",
    "df = df.set_index(['Course', df.index]) # Set a multi-index index\n",
    "df = df.sort_values(by=['Course', 'INST']) # Sort the data by Course then institution\n",
    "\n",
    "df.to_csv('Cleaned-fee.csv') # Export the cleaned file to csv"
   ]
  }
 ],
 "metadata": {
  "kernelspec": {
   "display_name": "Python 3",
   "language": "python",
   "name": "python3"
  },
  "language_info": {
   "codemirror_mode": {
    "name": "ipython",
    "version": 3
   },
   "file_extension": ".py",
   "mimetype": "text/x-python",
   "name": "python",
   "nbconvert_exporter": "python",
   "pygments_lexer": "ipython3",
   "version": "3.7.6"
  }
 },
 "nbformat": 4,
 "nbformat_minor": 4
}
